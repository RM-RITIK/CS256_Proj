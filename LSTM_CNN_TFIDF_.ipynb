{
  "nbformat": 4,
  "nbformat_minor": 0,
  "metadata": {
    "colab": {
      "provenance": [],
      "gpuType": "T4"
    },
    "kernelspec": {
      "name": "python3",
      "display_name": "Python 3"
    },
    "language_info": {
      "name": "python"
    },
    "accelerator": "GPU"
  },
  "cells": [
    {
      "cell_type": "code",
      "source": [
        "from collections import defaultdict, Counter\n",
        "import numpy as np\n",
        "import pandas as pd\n",
        "import nltk\n",
        "from nltk.corpus import stopwords\n",
        "from tqdm import tqdm\n",
        "from sklearn.model_selection import train_test_split\n",
        "from sklearn.metrics import classification_report, balanced_accuracy_score, confusion_matrix\n",
        "from sklearn.feature_extraction.text import TfidfVectorizer\n",
        "import matplotlib.pyplot as plt\n",
        "import seaborn as sn\n",
        "from tensorflow.keras.models import Sequential\n",
        "from tensorflow.keras.layers import Conv1D, MaxPooling1D, SpatialDropout1D, LSTM, Dense, Embedding, Dropout, BatchNormalization\n",
        "from tensorflow.keras.optimizers import Adam\n",
        "from tensorflow.keras.preprocessing.sequence import pad_sequences\n",
        "from tensorflow.keras.utils import to_categorical"
      ],
      "metadata": {
        "id": "BwbnrHiLAq4M"
      },
      "execution_count": 14,
      "outputs": []
    },
    {
      "cell_type": "code",
      "source": [
        "nltk.download('stopwords')\n"
      ],
      "metadata": {
        "colab": {
          "base_uri": "https://localhost:8080/"
        },
        "id": "p7YbSCRxAsSQ",
        "outputId": "35db5c8e-7651-4719-fc08-91fe7c131745"
      },
      "execution_count": 15,
      "outputs": [
        {
          "output_type": "stream",
          "name": "stderr",
          "text": [
            "[nltk_data] Downloading package stopwords to /root/nltk_data...\n",
            "[nltk_data]   Package stopwords is already up-to-date!\n"
          ]
        },
        {
          "output_type": "execute_result",
          "data": {
            "text/plain": [
              "True"
            ]
          },
          "metadata": {},
          "execution_count": 15
        }
      ]
    },
    {
      "cell_type": "code",
      "source": [
        "main_df = pd.read_pickle('main_df_sampled.pickle')\n"
      ],
      "metadata": {
        "id": "dCQJs4nbAtN9"
      },
      "execution_count": 16,
      "outputs": []
    },
    {
      "cell_type": "code",
      "source": [
        "# Combine 'title' and 'selftext' fields for text analysis\n",
        "text_df = main_df['title'].map(str) + \" \" + main_df['selftext']\n",
        "y = pd.get_dummies(main_df['genre'])"
      ],
      "metadata": {
        "id": "A0pDu8KgAuZz"
      },
      "execution_count": 17,
      "outputs": []
    },
    {
      "cell_type": "code",
      "source": [
        "MAX_FEATURES = 10000  # Set to the desired vocabulary size\n",
        "MAX_SEQUENCE_LENGTH = 500  # Limit the length of sequences\n",
        "EMBEDDING_DIM = 100  # Embedding dimension"
      ],
      "metadata": {
        "id": "2AqrVdw8AvjS"
      },
      "execution_count": 18,
      "outputs": []
    },
    {
      "cell_type": "code",
      "source": [
        "tfidf_vectorizer = TfidfVectorizer(max_features=MAX_FEATURES, stop_words='english')\n"
      ],
      "metadata": {
        "id": "SnyCALNhAw7J"
      },
      "execution_count": 19,
      "outputs": []
    },
    {
      "cell_type": "code",
      "source": [
        "X_tfidf = tfidf_vectorizer.fit_transform(text_df)\n",
        "feature_names = tfidf_vectorizer.get_feature_names_out()"
      ],
      "metadata": {
        "id": "L1IY_X12Ax2y"
      },
      "execution_count": 20,
      "outputs": []
    },
    {
      "cell_type": "code",
      "source": [
        "word_index = {word: index + 1 for index, word in enumerate(feature_names)}\n"
      ],
      "metadata": {
        "id": "1mDHwgVzAy5D"
      },
      "execution_count": 21,
      "outputs": []
    },
    {
      "cell_type": "code",
      "source": [
        "def text_to_sequence(text):\n",
        "    return [word_index.get(word, 0) for word in text.split()]"
      ],
      "metadata": {
        "id": "-Q9bRY1pAz5q"
      },
      "execution_count": 22,
      "outputs": []
    },
    {
      "cell_type": "code",
      "source": [
        "sequences = [text_to_sequence(sentence) for sentence in text_df]\n"
      ],
      "metadata": {
        "id": "vSpK1ZEdA08a"
      },
      "execution_count": 23,
      "outputs": []
    },
    {
      "cell_type": "code",
      "source": [
        "X_sequences = pad_sequences(sequences, maxlen=MAX_SEQUENCE_LENGTH)\n"
      ],
      "metadata": {
        "id": "6RHOUK7rA159"
      },
      "execution_count": 24,
      "outputs": []
    },
    {
      "cell_type": "code",
      "source": [
        "model = Sequential()\n",
        "model.add(Embedding(len(word_index) + 1, EMBEDDING_DIM, input_length=MAX_SEQUENCE_LENGTH))\n",
        "model.add(SpatialDropout1D(0.2))\n",
        "model.add(Conv1D(filters=128, kernel_size=3, padding='same', activation='relu'))\n",
        "model.add(BatchNormalization())\n",
        "model.add(MaxPooling1D(pool_size=2))\n",
        "model.add(LSTM(100, dropout=0.2, recurrent_dropout=0.2))\n",
        "model.add(Dropout(0.3))\n",
        "model.add(Dense(256, activation='relu'))\n",
        "model.add(Dropout(0.3))\n",
        "model.add(Dense(y.shape[1], activation='softmax'))"
      ],
      "metadata": {
        "id": "_nNUsfzuA2z_"
      },
      "execution_count": 25,
      "outputs": []
    },
    {
      "cell_type": "code",
      "source": [
        "model.compile(loss='categorical_crossentropy', optimizer=Adam(), metrics=['accuracy'])\n"
      ],
      "metadata": {
        "id": "7VJabKP0A4PU"
      },
      "execution_count": 26,
      "outputs": []
    },
    {
      "cell_type": "code",
      "source": [
        "X_train, X_test, y_train, y_test = train_test_split(X_sequences, y, test_size=0.2, random_state=42)\n"
      ],
      "metadata": {
        "id": "AjmGqxQ0A5Md"
      },
      "execution_count": 27,
      "outputs": []
    },
    {
      "cell_type": "code",
      "source": [
        "history = model.fit(X_train, y_train, batch_size=64, epochs=5, validation_data=(X_test, y_test))\n"
      ],
      "metadata": {
        "colab": {
          "base_uri": "https://localhost:8080/"
        },
        "id": "GuTG7odSA6JV",
        "outputId": "332c7287-6cdd-43f9-b822-91d489355e09"
      },
      "execution_count": 28,
      "outputs": [
        {
          "output_type": "stream",
          "name": "stdout",
          "text": [
            "Epoch 1/5\n",
            "1463/1463 [==============================] - 1544s 1s/step - loss: 2.9529 - accuracy: 0.1852 - val_loss: 2.0929 - val_accuracy: 0.4251\n",
            "Epoch 2/5\n",
            "1463/1463 [==============================] - 1512s 1s/step - loss: 1.9293 - accuracy: 0.4865 - val_loss: 1.7397 - val_accuracy: 0.5565\n",
            "Epoch 3/5\n",
            "1463/1463 [==============================] - 1521s 1s/step - loss: 1.6440 - accuracy: 0.5738 - val_loss: 1.6672 - val_accuracy: 0.5742\n",
            "Epoch 4/5\n",
            "1463/1463 [==============================] - 1539s 1s/step - loss: 1.5132 - accuracy: 0.6081 - val_loss: 1.6170 - val_accuracy: 0.5918\n",
            "Epoch 5/5\n",
            "1463/1463 [==============================] - 1533s 1s/step - loss: 1.4231 - accuracy: 0.6303 - val_loss: 1.5955 - val_accuracy: 0.5952\n"
          ]
        }
      ]
    },
    {
      "cell_type": "code",
      "source": [
        "# Evaluate the model\n",
        "y_pred = model.predict(X_test)\n",
        "y_pred_classes = np.argmax(y_pred, axis=1)\n",
        "y_test_classes = np.argmax(y_test.values, axis=1)"
      ],
      "metadata": {
        "colab": {
          "base_uri": "https://localhost:8080/"
        },
        "id": "q2_klh7VA7Oh",
        "outputId": "6fe08f64-b8ac-4a1a-fe3a-f07da436d3e4"
      },
      "execution_count": 29,
      "outputs": [
        {
          "output_type": "stream",
          "name": "stdout",
          "text": [
            "732/732 [==============================] - 110s 149ms/step\n"
          ]
        }
      ]
    },
    {
      "cell_type": "code",
      "source": [
        "model.save('lstm_cnn_tfidf_model.h5')"
      ],
      "metadata": {
        "colab": {
          "base_uri": "https://localhost:8080/"
        },
        "id": "9fx90DtsgLAw",
        "outputId": "98111783-f2d1-4014-caae-a20c280931eb"
      },
      "execution_count": 30,
      "outputs": [
        {
          "output_type": "stream",
          "name": "stderr",
          "text": [
            "/usr/local/lib/python3.10/dist-packages/keras/src/engine/training.py:3103: UserWarning: You are saving your model as an HDF5 file via `model.save()`. This file format is considered legacy. We recommend using instead the native Keras format, e.g. `model.save('my_model.keras')`.\n",
            "  saving_api.save_model(\n"
          ]
        }
      ]
    },
    {
      "cell_type": "code",
      "source": [
        "def output_metrics(y_true, y_pred, normalize_cm=False, title_cm=None):\n",
        "    report = classification_report(y_true, y_pred, output_dict=True)\n",
        "    macro_avg = report['macro avg']\n",
        "    weighted_avg = report['weighted avg']\n",
        "\n",
        "    print('Balanced Accuracy:', balanced_accuracy_score(y_true, y_pred))\n",
        "    print('Accuracy:', report['accuracy'])\n",
        "    print('\\t\\t precision\\t\\t recall\\t\\t\\t f1-score\\t\\t support')\n",
        "    print('Macro Avg: \\t {}\\t {}\\t {}\\t {}'.format(\n",
        "        macro_avg['precision'], macro_avg['recall'], macro_avg['f1-score'], macro_avg['support']))\n",
        "    print('Weighted Avg: \\t {}\\t {}\\t {}\\t {}'.format(\n",
        "        weighted_avg['precision'], weighted_avg['recall'], weighted_avg['f1-score'], weighted_avg['support']))\n",
        "    plot_confusion_matrix(y_true, y_pred, normalize=normalize_cm, title=title_cm)"
      ],
      "metadata": {
        "id": "WNTAlwHigNQR"
      },
      "execution_count": 31,
      "outputs": []
    },
    {
      "cell_type": "code",
      "source": [
        "def plot_confusion_matrix(y_true, y_pred, normalize=False, title=None):\n",
        "    data = confusion_matrix(y_true, y_pred)\n",
        "    if normalize:\n",
        "        data = data.astype('float') / data.sum(axis=1)[:, np.newaxis]\n",
        "    df_cm = pd.DataFrame(data, index=np.unique(y_true), columns=np.unique(y_true))\n",
        "    df_cm.index.name = 'Actual'\n",
        "    df_cm.columns.name = 'Predicted'\n",
        "    plt.figure(figsize=(10, 7))\n",
        "    if title:\n",
        "        plt.title(title)\n",
        "    else:\n",
        "        plt.title(\"Confusion Matrix\")\n",
        "    sn.set(font_scale=1.4)\n",
        "    sn.heatmap(df_cm, cmap='Reds')"
      ],
      "metadata": {
        "id": "5mGfeejsgTEO"
      },
      "execution_count": 32,
      "outputs": []
    },
    {
      "cell_type": "code",
      "source": [
        "output_metrics(y_test_classes, y_pred_classes, normalize_cm=True, title_cm='LSTM + CNN + TF-IDF Confusion Matrix')\n"
      ],
      "metadata": {
        "colab": {
          "base_uri": "https://localhost:8080/",
          "height": 751
        },
        "id": "U4pWH0ImgVK3",
        "outputId": "eee32d8b-65e2-4632-e023-25ae028e8af8"
      },
      "execution_count": 34,
      "outputs": [
        {
          "output_type": "stream",
          "name": "stdout",
          "text": [
            "Balanced Accuracy: 0.5965634008700104\n",
            "Accuracy: 0.5951709401709402\n",
            "\t\t precision\t\t recall\t\t\t f1-score\t\t support\n",
            "Macro Avg: \t 0.6103924885251752\t 0.5965634008700104\t 0.5972103176464615\t 23400\n",
            "Weighted Avg: \t 0.6103720820506922\t 0.5951709401709402\t 0.5964459240600141\t 23400\n"
          ]
        },
        {
          "output_type": "display_data",
          "data": {
            "text/plain": [
              "<Figure size 1000x700 with 2 Axes>"
            ],
            "image/png": "[encoded data removed]"
          },
          "metadata": {}
        }
      ]
    },
    {
      "cell_type": "code",
      "source": [],
      "metadata": {
        "id": "2Ct__sMIgXdz"
      },
      "execution_count": null,
      "outputs": []
    }
  ]
}