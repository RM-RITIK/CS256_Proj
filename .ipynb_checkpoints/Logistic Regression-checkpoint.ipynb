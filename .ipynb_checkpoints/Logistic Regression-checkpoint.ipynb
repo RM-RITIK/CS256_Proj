{
 "cells": [
  {
   "cell_type": "code",
   "execution_count": 1,
   "id": "d8de779f",
   "metadata": {},
   "outputs": [],
   "source": [
    "from collections import defaultdict, Counter\n",
    "from tqdm import tqdm_notebook as tqdm\n",
    "import numpy as np\n",
    "import pandas as pd\n",
    "import scipy.stats\n",
    "import seaborn as sn\n",
    "import nltk\n",
    "from nltk.corpus import stopwords\n",
    "from sklearn import preprocessing\n",
    "from sklearn.model_selection import train_test_split\n",
    "from sklearn.linear_model import LogisticRegression\n",
    "from sklearn.metrics import accuracy_score\n",
    "from sklearn.metrics import confusion_matrix\n",
    "from sklearn.metrics import classification_report\n",
    "from sklearn.metrics import balanced_accuracy_score\n",
    "\n",
    "import matplotlib.pyplot as plt\n",
    "%matplotlib inline"
   ]
  },
  {
   "cell_type": "code",
   "execution_count": 2,
   "id": "21da4e1b",
   "metadata": {},
   "outputs": [
    {
     "data": {
      "text/html": [
       "<div>\n",
       "<style scoped>\n",
       "    .dataframe tbody tr th:only-of-type {\n",
       "        vertical-align: middle;\n",
       "    }\n",
       "\n",
       "    .dataframe tbody tr th {\n",
       "        vertical-align: top;\n",
       "    }\n",
       "\n",
       "    .dataframe thead th {\n",
       "        text-align: right;\n",
       "    }\n",
       "</style>\n",
       "<table border=\"1\" class=\"dataframe\">\n",
       "  <thead>\n",
       "    <tr style=\"text-align: right;\">\n",
       "      <th></th>\n",
       "      <th>id</th>\n",
       "      <th>subreddit</th>\n",
       "      <th>title</th>\n",
       "      <th>selftext</th>\n",
       "      <th>genre</th>\n",
       "    </tr>\n",
       "  </thead>\n",
       "  <tbody>\n",
       "    <tr>\n",
       "      <th>0</th>\n",
       "      <td>6d8knd</td>\n",
       "      <td>talesfromtechsupport</td>\n",
       "      <td>remember your command line switches</td>\n",
       "      <td>\"hi there  \"</td>\n",
       "      <td>writing/stories</td>\n",
       "    </tr>\n",
       "    <tr>\n",
       "      <th>1</th>\n",
       "      <td>58mbft</td>\n",
       "      <td>teenmom</td>\n",
       "      <td>\"so what was matt \"\"addicted\"\" to ? \"</td>\n",
       "      <td>did he ever say what his addiction was or is h...</td>\n",
       "      <td>tv_show</td>\n",
       "    </tr>\n",
       "    <tr>\n",
       "      <th>2</th>\n",
       "      <td>8f73s7</td>\n",
       "      <td>Harley</td>\n",
       "      <td>no club colors</td>\n",
       "      <td>funny story i went to college in las vegas thi...</td>\n",
       "      <td>autos</td>\n",
       "    </tr>\n",
       "    <tr>\n",
       "      <th>3</th>\n",
       "      <td>6ti6re</td>\n",
       "      <td>ringdoorbell</td>\n",
       "      <td>not door bell but floodlight mount height</td>\n",
       "      <td>i know this is a sub for the 'ring doorbell' b...</td>\n",
       "      <td>hardware/tools</td>\n",
       "    </tr>\n",
       "    <tr>\n",
       "      <th>4</th>\n",
       "      <td>77sxto</td>\n",
       "      <td>intel</td>\n",
       "      <td>worried about my 8700k small fft/data stress r...</td>\n",
       "      <td>\"prime95 (regardless of version) and occt both...</td>\n",
       "      <td>electronics</td>\n",
       "    </tr>\n",
       "    <tr>\n",
       "      <th>...</th>\n",
       "      <td>...</td>\n",
       "      <td>...</td>\n",
       "      <td>...</td>\n",
       "      <td>...</td>\n",
       "      <td>...</td>\n",
       "    </tr>\n",
       "    <tr>\n",
       "      <th>1012995</th>\n",
       "      <td>5r9k4h</td>\n",
       "      <td>MSLGame</td>\n",
       "      <td>is this months rebirth and dungeon astro's wor...</td>\n",
       "      <td>i looking on what to evo3 farm next and was ex...</td>\n",
       "      <td>video_game</td>\n",
       "    </tr>\n",
       "    <tr>\n",
       "      <th>1012996</th>\n",
       "      <td>6529fp</td>\n",
       "      <td>CrohnsDisease</td>\n",
       "      <td>i might need a medical leave from grad school</td>\n",
       "      <td>has anyone here ever needed a medical leave fr...</td>\n",
       "      <td>health</td>\n",
       "    </tr>\n",
       "    <tr>\n",
       "      <th>1012997</th>\n",
       "      <td>7tiyzx</td>\n",
       "      <td>HongKong</td>\n",
       "      <td>police harassing ethnic minorities in hong kong</td>\n",
       "      <td>i thought i'd make this post so that more peop...</td>\n",
       "      <td>geo</td>\n",
       "    </tr>\n",
       "    <tr>\n",
       "      <th>1012998</th>\n",
       "      <td>664ha3</td>\n",
       "      <td>yorku</td>\n",
       "      <td>su eecs 2030 and eecs 2021 - need advice</td>\n",
       "      <td>hi i just finished 1st year eecs courses and h...</td>\n",
       "      <td>education</td>\n",
       "    </tr>\n",
       "    <tr>\n",
       "      <th>1012999</th>\n",
       "      <td>6ump0y</td>\n",
       "      <td>wine</td>\n",
       "      <td>what is the worse wine you ever had ?</td>\n",
       "      <td>my worst wine was at a dinner party my friend ...</td>\n",
       "      <td>food/drink</td>\n",
       "    </tr>\n",
       "  </tbody>\n",
       "</table>\n",
       "<p>1013000 rows × 5 columns</p>\n",
       "</div>"
      ],
      "text/plain": [
       "             id             subreddit  \\\n",
       "0        6d8knd  talesfromtechsupport   \n",
       "1        58mbft               teenmom   \n",
       "2        8f73s7                Harley   \n",
       "3        6ti6re          ringdoorbell   \n",
       "4        77sxto                 intel   \n",
       "...         ...                   ...   \n",
       "1012995  5r9k4h               MSLGame   \n",
       "1012996  6529fp         CrohnsDisease   \n",
       "1012997  7tiyzx              HongKong   \n",
       "1012998  664ha3                 yorku   \n",
       "1012999  6ump0y                  wine   \n",
       "\n",
       "                                                     title  \\\n",
       "0                      remember your command line switches   \n",
       "1                    \"so what was matt \"\"addicted\"\" to ? \"   \n",
       "2                                           no club colors   \n",
       "3                not door bell but floodlight mount height   \n",
       "4        worried about my 8700k small fft/data stress r...   \n",
       "...                                                    ...   \n",
       "1012995  is this months rebirth and dungeon astro's wor...   \n",
       "1012996      i might need a medical leave from grad school   \n",
       "1012997    police harassing ethnic minorities in hong kong   \n",
       "1012998           su eecs 2030 and eecs 2021 - need advice   \n",
       "1012999             what is the worse wine you ever had ?    \n",
       "\n",
       "                                                  selftext            genre  \n",
       "0                                             \"hi there  \"  writing/stories  \n",
       "1        did he ever say what his addiction was or is h...          tv_show  \n",
       "2        funny story i went to college in las vegas thi...            autos  \n",
       "3        i know this is a sub for the 'ring doorbell' b...   hardware/tools  \n",
       "4        \"prime95 (regardless of version) and occt both...      electronics  \n",
       "...                                                    ...              ...  \n",
       "1012995  i looking on what to evo3 farm next and was ex...       video_game  \n",
       "1012996  has anyone here ever needed a medical leave fr...           health  \n",
       "1012997  i thought i'd make this post so that more peop...              geo  \n",
       "1012998  hi i just finished 1st year eecs courses and h...        education  \n",
       "1012999  my worst wine was at a dinner party my friend ...       food/drink  \n",
       "\n",
       "[1013000 rows x 5 columns]"
      ]
     },
     "execution_count": 2,
     "metadata": {},
     "output_type": "execute_result"
    }
   ],
   "source": [
    "main_df = pd.read_pickle('main_df.pickle')\n",
    "main_df"
   ]
  },
  {
   "cell_type": "code",
   "execution_count": 3,
   "id": "e289c8f7",
   "metadata": {},
   "outputs": [],
   "source": [
    "sampled_data = []\n",
    "for genre in main_df['genre'].unique():\n",
    "    genre_data = main_df[main_df['genre'] == genre].sample(n=2000, random_state=42)\n",
    "    sampled_data.append(genre_data)\n",
    "\n",
    "main_df_sampled = pd.concat(sampled_data)\n",
    "\n",
    "# Shuffle the sampled data\n",
    "main_df_sampled = main_df_sampled.sample(frac=1, random_state=42).reset_index(drop=True)"
   ]
  },
  {
   "cell_type": "code",
   "execution_count": 4,
   "id": "255679ea",
   "metadata": {},
   "outputs": [],
   "source": [
    "main_df_sampled.to_pickle('main_df_sampled.pickle')"
   ]
  },
  {
   "cell_type": "code",
   "execution_count": 5,
   "id": "a8aefed0",
   "metadata": {},
   "outputs": [
    {
     "name": "stdout",
     "output_type": "stream",
     "text": [
      "Number of genres: 39\n"
     ]
    }
   ],
   "source": [
    "genres = sorted(main_df_sampled['genre'].unique().tolist()) # this has to be sorted to match up with lstm model\n",
    "\n",
    "print('Number of genres:', len(genres))"
   ]
  },
  {
   "cell_type": "code",
   "execution_count": 6,
   "id": "267ffc26",
   "metadata": {},
   "outputs": [
    {
     "name": "stdout",
     "output_type": "stream",
     "text": [
      "DescribeResult(nobs=39, minmax=(2000, 2000), mean=2000.0, variance=0.0, skewness=0.0, kurtosis=-3.0)\n",
      "                          0\n",
      "advice/question        2000\n",
      "animals                2000\n",
      "anime/manga            2000\n",
      "appearance             2000\n",
      "arts                   2000\n",
      "autos                  2000\n",
      "board_game             2000\n",
      "books                  2000\n",
      "card_game              2000\n",
      "company/website        2000\n",
      "crypto                 2000\n",
      "drugs                  2000\n",
      "education              2000\n",
      "electronics            2000\n",
      "finance/money          2000\n",
      "food/drink             2000\n",
      "geo                    2000\n",
      "hardware/tools         2000\n",
      "health                 2000\n",
      "hobby                  2000\n",
      "meta                   2000\n",
      "movies                 2000\n",
      "music                  2000\n",
      "other                  2000\n",
      "parenting              2000\n",
      "politics/viewpoint     2000\n",
      "profession             2000\n",
      "programming            2000\n",
      "religion/supernatural  2000\n",
      "rpg                    2000\n",
      "sex/relationships      2000\n",
      "social_group           2000\n",
      "software               2000\n",
      "sports                 2000\n",
      "stem                   2000\n",
      "travel                 2000\n",
      "tv_show                2000\n",
      "video_game             2000\n",
      "writing/stories        2000\n"
     ]
    }
   ],
   "source": [
    "# Get frequencies of each subreddit using efficient pandas filtering.\n",
    "frequencies = defaultdict(int)\n",
    "for genre in genres:\n",
    "    frequencies[genre] = len(main_df_sampled.loc[main_df_sampled['genre'] == genre])\n",
    "\n",
    "frequencies_df = pd.DataFrame([frequencies])\n",
    "frequencies_df = frequencies_df.T\n",
    "\n",
    "print(scipy.stats.describe(list(frequencies.values())))\n",
    "print(frequencies_df)"
   ]
  },
  {
   "cell_type": "code",
   "execution_count": 7,
   "id": "713db9ca",
   "metadata": {},
   "outputs": [],
   "source": [
    "stop = set(stopwords.words('english'))"
   ]
  },
  {
   "cell_type": "code",
   "execution_count": 8,
   "id": "60adb3f6",
   "metadata": {},
   "outputs": [
    {
     "name": "stderr",
     "output_type": "stream",
     "text": [
      "100%|██████████████████████████████████| 78000/78000 [00:05<00:00, 14911.54it/s]\n"
     ]
    }
   ],
   "source": [
    "from gensim.models import Word2Vec\n",
    "from gensim.utils import simple_preprocess\n",
    "import numpy as np\n",
    "from sklearn import preprocessing\n",
    "from tqdm import tqdm\n",
    "\n",
    "# Tokenize text using simple_preprocess\n",
    "preprocessed = [simple_preprocess(x) for x in tqdm(main_df_sampled['title'] + \" \" + main_df_sampled['selftext'])]\n",
    "\n",
    "# Train Word2Vec model\n",
    "word2vec_model = Word2Vec(sentences=preprocessed, vector_size=300, window=5, min_count=1, workers=4)\n",
    "\n",
    "def word_to_vec(word):\n",
    "    if word not in word2vec_model.wv:\n",
    "        return None\n",
    "    return word2vec_model.wv[word]\n",
    "\n",
    "def get_word2vec_embeddings(text):\n",
    "    embeddings = [word_to_vec(word) for word in text if word in word2vec_model.wv]\n",
    "    if len(embeddings) == 0:\n",
    "        return None\n",
    "    return np.mean(embeddings, axis=0)"
   ]
  },
  {
   "cell_type": "code",
   "execution_count": 22,
   "id": "67f5d2c1",
   "metadata": {},
   "outputs": [
    {
     "name": "stderr",
     "output_type": "stream",
     "text": [
      "78000it [00:12, 6189.60it/s]\n"
     ]
    }
   ],
   "source": [
    "y = main_df_sampled['genre'].copy()\n",
    "\n",
    "X_word2vec = []\n",
    "\n",
    "for i, text in tqdm(enumerate(preprocessed)):\n",
    "    embeddings = get_word2vec_embeddings(text)\n",
    "    if embeddings is not None:\n",
    "        X_word2vec.append(embeddings)\n",
    "    else:\n",
    "        del y[i]"
   ]
  },
  {
   "cell_type": "code",
   "execution_count": 23,
   "id": "7e3e4867",
   "metadata": {},
   "outputs": [
    {
     "name": "stdout",
     "output_type": "stream",
     "text": [
      "Genre Mapping:\n",
      "{'advice/question': 0, 'animals': 1, 'anime/manga': 2, 'appearance': 3, 'arts': 4, 'autos': 5, 'board_game': 6, 'books': 7, 'card_game': 8, 'company/website': 9, 'crypto': 10, 'drugs': 11, 'education': 12, 'electronics': 13, 'finance/money': 14, 'food/drink': 15, 'geo': 16, 'hardware/tools': 17, 'health': 18, 'hobby': 19, 'meta': 20, 'movies': 21, 'music': 22, 'other': 23, 'parenting': 24, 'politics/viewpoint': 25, 'profession': 26, 'programming': 27, 'religion/supernatural': 28, 'rpg': 29, 'sex/relationships': 30, 'social_group': 31, 'software': 32, 'sports': 33, 'stem': 34, 'travel': 35, 'tv_show': 36, 'video_game': 37, 'writing/stories': 38}\n"
     ]
    }
   ],
   "source": [
    "from sklearn.preprocessing import LabelEncoder\n",
    "\n",
    "label_encoder = LabelEncoder()\n",
    "\n",
    "y = label_encoder.fit_transform(y)\n",
    "\n",
    "genre_mapping = dict(zip(label_encoder.classes_, label_encoder.transform(label_encoder.classes_)))\n",
    "print(\"Genre Mapping:\")\n",
    "print(genre_mapping)"
   ]
  },
  {
   "cell_type": "code",
   "execution_count": 25,
   "id": "ffd80738",
   "metadata": {},
   "outputs": [],
   "source": [
    "X_word2vec_scaled = preprocessing.scale(X_word2vec)"
   ]
  },
  {
   "cell_type": "code",
   "execution_count": 26,
   "id": "93eddfe2",
   "metadata": {},
   "outputs": [
    {
     "name": "stdout",
     "output_type": "stream",
     "text": [
      "(62398, 300) (15600, 300) (62398,) (15600,)\n"
     ]
    }
   ],
   "source": [
    "X_word2vec_train, X_word2vec_test, y_word2vec_train, y_word2vec_test = train_test_split(X_word2vec_scaled, y, test_size=0.2, random_state=42)\n",
    "print(X_word2vec_train.shape, X_word2vec_test.shape, y_word2vec_train.shape, y_word2vec_test.shape)"
   ]
  },
  {
   "cell_type": "code",
   "execution_count": 27,
   "id": "454505f5",
   "metadata": {},
   "outputs": [
    {
     "data": {
      "text/plain": [
       "array([11, 37,  8, ..., 18, 27, 10])"
      ]
     },
     "execution_count": 27,
     "metadata": {},
     "output_type": "execute_result"
    }
   ],
   "source": [
    "y_word2vec_train"
   ]
  },
  {
   "cell_type": "markdown",
   "id": "cabf3cdd",
   "metadata": {},
   "source": [
    "## Logistic Regression with Word2Vec"
   ]
  },
  {
   "cell_type": "code",
   "execution_count": 35,
   "id": "15125506",
   "metadata": {},
   "outputs": [
    {
     "name": "stdout",
     "output_type": "stream",
     "text": [
      "Fitting 5 folds for each of 18 candidates, totalling 90 fits\n"
     ]
    },
    {
     "name": "stderr",
     "output_type": "stream",
     "text": [
      "/opt/anaconda3/lib/python3.9/site-packages/sklearn/linear_model/_sag.py:352: ConvergenceWarning: The max_iter was reached which means the coef_ did not converge\n",
      "  warnings.warn(\n",
      "/opt/anaconda3/lib/python3.9/site-packages/sklearn/linear_model/_sag.py:352: ConvergenceWarning: The max_iter was reached which means the coef_ did not converge\n",
      "  warnings.warn(\n",
      "/opt/anaconda3/lib/python3.9/site-packages/sklearn/linear_model/_sag.py:352: ConvergenceWarning: The max_iter was reached which means the coef_ did not converge\n",
      "  warnings.warn(\n",
      "/opt/anaconda3/lib/python3.9/site-packages/sklearn/linear_model/_sag.py:352: ConvergenceWarning: The max_iter was reached which means the coef_ did not converge\n",
      "  warnings.warn(\n",
      "/opt/anaconda3/lib/python3.9/site-packages/sklearn/linear_model/_logistic.py:814: ConvergenceWarning: lbfgs failed to converge (status=1):\n",
      "STOP: TOTAL NO. of ITERATIONS REACHED LIMIT.\n",
      "\n",
      "Increase the number of iterations (max_iter) or scale the data as shown in:\n",
      "    https://scikit-learn.org/stable/modules/preprocessing.html\n",
      "Please also refer to the documentation for alternative solver options:\n",
      "    https://scikit-learn.org/stable/modules/linear_model.html#logistic-regression\n",
      "  n_iter_i = _check_optimize_result(\n",
      "/opt/anaconda3/lib/python3.9/site-packages/sklearn/linear_model/_logistic.py:814: ConvergenceWarning: lbfgs failed to converge (status=1):\n",
      "STOP: TOTAL NO. of ITERATIONS REACHED LIMIT.\n",
      "\n",
      "Increase the number of iterations (max_iter) or scale the data as shown in:\n",
      "    https://scikit-learn.org/stable/modules/preprocessing.html\n",
      "Please also refer to the documentation for alternative solver options:\n",
      "    https://scikit-learn.org/stable/modules/linear_model.html#logistic-regression\n",
      "  n_iter_i = _check_optimize_result(\n",
      "/opt/anaconda3/lib/python3.9/site-packages/sklearn/linear_model/_sag.py:352: ConvergenceWarning: The max_iter was reached which means the coef_ did not converge\n",
      "  warnings.warn(\n",
      "/opt/anaconda3/lib/python3.9/site-packages/sklearn/linear_model/_logistic.py:814: ConvergenceWarning: lbfgs failed to converge (status=1):\n",
      "STOP: TOTAL NO. of ITERATIONS REACHED LIMIT.\n",
      "\n",
      "Increase the number of iterations (max_iter) or scale the data as shown in:\n",
      "    https://scikit-learn.org/stable/modules/preprocessing.html\n",
      "Please also refer to the documentation for alternative solver options:\n",
      "    https://scikit-learn.org/stable/modules/linear_model.html#logistic-regression\n",
      "  n_iter_i = _check_optimize_result(\n",
      "/opt/anaconda3/lib/python3.9/site-packages/sklearn/linear_model/_logistic.py:814: ConvergenceWarning: lbfgs failed to converge (status=1):\n",
      "STOP: TOTAL NO. of ITERATIONS REACHED LIMIT.\n",
      "\n",
      "Increase the number of iterations (max_iter) or scale the data as shown in:\n",
      "    https://scikit-learn.org/stable/modules/preprocessing.html\n",
      "Please also refer to the documentation for alternative solver options:\n",
      "    https://scikit-learn.org/stable/modules/linear_model.html#logistic-regression\n",
      "  n_iter_i = _check_optimize_result(\n",
      "/opt/anaconda3/lib/python3.9/site-packages/sklearn/linear_model/_logistic.py:814: ConvergenceWarning: lbfgs failed to converge (status=1):\n",
      "STOP: TOTAL NO. of ITERATIONS REACHED LIMIT.\n",
      "\n",
      "Increase the number of iterations (max_iter) or scale the data as shown in:\n",
      "    https://scikit-learn.org/stable/modules/preprocessing.html\n",
      "Please also refer to the documentation for alternative solver options:\n",
      "    https://scikit-learn.org/stable/modules/linear_model.html#logistic-regression\n",
      "  n_iter_i = _check_optimize_result(\n",
      "/opt/anaconda3/lib/python3.9/site-packages/sklearn/linear_model/_sag.py:352: ConvergenceWarning: The max_iter was reached which means the coef_ did not converge\n",
      "  warnings.warn(\n",
      "/opt/anaconda3/lib/python3.9/site-packages/sklearn/linear_model/_sag.py:352: ConvergenceWarning: The max_iter was reached which means the coef_ did not converge\n",
      "  warnings.warn(\n",
      "/opt/anaconda3/lib/python3.9/site-packages/sklearn/linear_model/_sag.py:352: ConvergenceWarning: The max_iter was reached which means the coef_ did not converge\n",
      "  warnings.warn(\n",
      "/opt/anaconda3/lib/python3.9/site-packages/sklearn/linear_model/_sag.py:352: ConvergenceWarning: The max_iter was reached which means the coef_ did not converge\n",
      "  warnings.warn(\n",
      "/opt/anaconda3/lib/python3.9/site-packages/sklearn/linear_model/_sag.py:352: ConvergenceWarning: The max_iter was reached which means the coef_ did not converge\n",
      "  warnings.warn(\n",
      "/opt/anaconda3/lib/python3.9/site-packages/sklearn/linear_model/_sag.py:352: ConvergenceWarning: The max_iter was reached which means the coef_ did not converge\n",
      "  warnings.warn(\n",
      "/opt/anaconda3/lib/python3.9/site-packages/sklearn/linear_model/_sag.py:352: ConvergenceWarning: The max_iter was reached which means the coef_ did not converge\n",
      "  warnings.warn(\n",
      "/opt/anaconda3/lib/python3.9/site-packages/sklearn/linear_model/_sag.py:352: ConvergenceWarning: The max_iter was reached which means the coef_ did not converge\n",
      "  warnings.warn(\n",
      "/opt/anaconda3/lib/python3.9/site-packages/sklearn/linear_model/_sag.py:352: ConvergenceWarning: The max_iter was reached which means the coef_ did not converge\n",
      "  warnings.warn(\n",
      "/opt/anaconda3/lib/python3.9/site-packages/sklearn/linear_model/_sag.py:352: ConvergenceWarning: The max_iter was reached which means the coef_ did not converge\n",
      "  warnings.warn(\n",
      "/opt/anaconda3/lib/python3.9/site-packages/sklearn/linear_model/_sag.py:352: ConvergenceWarning: The max_iter was reached which means the coef_ did not converge\n",
      "  warnings.warn(\n",
      "/opt/anaconda3/lib/python3.9/site-packages/sklearn/linear_model/_sag.py:352: ConvergenceWarning: The max_iter was reached which means the coef_ did not converge\n",
      "  warnings.warn(\n",
      "/opt/anaconda3/lib/python3.9/site-packages/sklearn/model_selection/_validation.py:372: FitFailedWarning: \n",
      "45 fits failed out of a total of 90.\n",
      "The score on these train-test partitions for these parameters will be set to nan.\n",
      "If these failures are not expected, you can try to debug them by setting error_score='raise'.\n",
      "\n",
      "Below are more details about the failures:\n",
      "--------------------------------------------------------------------------------\n",
      "45 fits failed with the following error:\n",
      "Traceback (most recent call last):\n",
      "  File \"/opt/anaconda3/lib/python3.9/site-packages/sklearn/model_selection/_validation.py\", line 680, in _fit_and_score\n",
      "    estimator.fit(X_train, y_train, **fit_params)\n",
      "  File \"/opt/anaconda3/lib/python3.9/site-packages/sklearn/pipeline.py\", line 394, in fit\n",
      "    self._final_estimator.fit(Xt, y, **fit_params_last_step)\n",
      "  File \"/opt/anaconda3/lib/python3.9/site-packages/sklearn/linear_model/_logistic.py\", line 1461, in fit\n",
      "    solver = _check_solver(self.solver, self.penalty, self.dual)\n",
      "  File \"/opt/anaconda3/lib/python3.9/site-packages/sklearn/linear_model/_logistic.py\", line 441, in _check_solver\n",
      "    raise ValueError(\n",
      "ValueError: Logistic Regression supports only penalties in ['l1', 'l2', 'elasticnet', 'none'], got None.\n",
      "\n",
      "  warnings.warn(some_fits_failed_message, FitFailedWarning)\n",
      "/opt/anaconda3/lib/python3.9/site-packages/sklearn/model_selection/_search.py:969: UserWarning: One or more of the test scores are non-finite: [0.33033114 0.33028306 0.33025101        nan        nan        nan\n",
      " 0.3408123  0.34078024 0.34002702        nan        nan        nan\n",
      " 0.35180617 0.34536367 0.34289569        nan        nan        nan]\n",
      "  warnings.warn(\n",
      "/opt/anaconda3/lib/python3.9/site-packages/sklearn/linear_model/_logistic.py:814: ConvergenceWarning: lbfgs failed to converge (status=1):\n",
      "STOP: TOTAL NO. of ITERATIONS REACHED LIMIT.\n",
      "\n",
      "Increase the number of iterations (max_iter) or scale the data as shown in:\n",
      "    https://scikit-learn.org/stable/modules/preprocessing.html\n",
      "Please also refer to the documentation for alternative solver options:\n",
      "    https://scikit-learn.org/stable/modules/linear_model.html#logistic-regression\n",
      "  n_iter_i = _check_optimize_result(\n"
     ]
    },
    {
     "data": {
      "text/plain": [
       "GridSearchCV(cv=5,\n",
       "             estimator=Pipeline(steps=[('lr',\n",
       "                                        LogisticRegression(max_iter=500,\n",
       "                                                           random_state=42))]),\n",
       "             n_jobs=4,\n",
       "             param_grid={'lr__C': [0.01, 0.1, 1], 'lr__penalty': ['l2', None],\n",
       "                         'lr__solver': ['lbfgs', 'sag', 'saga']},\n",
       "             verbose=1)"
      ]
     },
     "execution_count": 35,
     "metadata": {},
     "output_type": "execute_result"
    }
   ],
   "source": [
    "from sklearn.pipeline import Pipeline\n",
    "from sklearn.model_selection import GridSearchCV\n",
    "\n",
    "lr_word2vec = LogisticRegression(random_state=42, max_iter=500)\n",
    "\n",
    "param_grid = {\n",
    "    'lr__C': [0.01, 0.1, 1],\n",
    "    'lr__penalty': ['l2', None],\n",
    "    'lr__solver': ['lbfgs', 'sag', 'saga']\n",
    "}\n",
    "\n",
    "pipe_word2vec = Pipeline([\n",
    "    ('lr', lr_word2vec)\n",
    "])\n",
    "\n",
    "grid_word2vec = GridSearchCV(pipe_word2vec, param_grid, cv=5, n_jobs=4, verbose=1)\n",
    "grid_word2vec.fit(X_word2vec_train, y_word2vec_train)"
   ]
  },
  {
   "cell_type": "code",
   "execution_count": 37,
   "id": "a98d3339",
   "metadata": {},
   "outputs": [
    {
     "name": "stdout",
     "output_type": "stream",
     "text": [
      "[[3.50679541e-03 1.17409666e-04 8.80179955e-05 ... 5.29383096e-05\n",
      "  1.73541550e-03 6.10509696e-04]\n",
      " [7.29296023e-03 3.47796881e-04 7.59768270e-02 ... 2.67157284e-02\n",
      "  9.06145134e-03 3.85364701e-02]\n",
      " [2.16941650e-02 3.39058481e-06 2.60695062e-03 ... 3.28099383e-04\n",
      "  3.20580088e-04 6.15323557e-03]\n",
      " ...\n",
      " [1.90358747e-02 8.98937616e-03 2.27840496e-04 ... 2.23587899e-04\n",
      "  4.28620826e-03 2.40155122e-03]\n",
      " [3.17826730e-03 8.48408073e-05 7.24787411e-06 ... 7.05195274e-05\n",
      "  2.32628785e-05 7.18689244e-04]\n",
      " [4.08481293e-03 4.47649628e-03 8.03557267e-04 ... 1.10093344e-03\n",
      "  1.28824291e-04 3.05489077e-02]]\n",
      "[35  7 20 ... 11 35 24]\n"
     ]
    }
   ],
   "source": [
    "lr_word2vec_predicted = grid_word2vec.predict(X_word2vec_test)\n",
    "lr_word2vec_proba = grid_word2vec.predict_proba(X_word2vec_test)\n",
    "print(lr_word2vec_proba)\n",
    "print(lr_word2vec_predicted)"
   ]
  },
  {
   "cell_type": "code",
   "execution_count": 38,
   "id": "b9864382",
   "metadata": {},
   "outputs": [],
   "source": [
    "# Plot confusion matrix\n",
    "def plot_confusion_matrix(y_true, y_pred, normalize=False, title=None):\n",
    "  data = confusion_matrix(y_true, y_pred)\n",
    "  df_cm = pd.DataFrame(data)\n",
    "  if normalize:\n",
    "    df_cm = df_cm.astype('float') / df_cm.sum(axis=1)[:, np.newaxis]\n",
    "  df_cm.index.name = 'Actual'\n",
    "  df_cm.columns.name = 'Predicted'\n",
    "  plt.figure(figsize = (10, 7))\n",
    "  if title:\n",
    "    plt.title(title)\n",
    "  else:\n",
    "    plt.title(\"Confusion Matrix\")\n",
    "  sn.set(font_scale=1.4)\n",
    "  sn.heatmap(df_cm, cmap='Reds')\n",
    "\n",
    "def output_metrics(y_true, y_pred, normalize_cm=False, title_cm=None):\n",
    "  \"\"\"Output metrics for a model:\n",
    "    - accuracy\n",
    "    - (normalized) confusion matrix\n",
    "  \"\"\"\n",
    "  report = classification_report(y_true, y_pred, output_dict=True)\n",
    "  macro_avg = report['macro avg']\n",
    "  weighted_avg = report['weighted avg']\n",
    "\n",
    "  print('Balanced Accuracy:', balanced_accuracy_score(y_true, y_pred))\n",
    "  print('Accuracy:', report['accuracy'])\n",
    "  print('\\t\\t precision\\t\\t recall\\t\\t\\t f1-score\\t\\t support')\n",
    "  print('Macro Avg: \\t {}\\t {}\\t {}\\t {}'.format(\n",
    "      macro_avg['precision'], macro_avg['recall'], macro_avg['f1-score'], macro_avg['support']))\n",
    "  print('Weighted Avg: \\t {}\\t {}\\t {}\\t {}'.format(\n",
    "      weighted_avg['precision'], weighted_avg['recall'], weighted_avg['f1-score'], weighted_avg['support']))\n",
    "  plot_confusion_matrix(y_true, y_pred, normalize=normalize_cm, title=title_cm)"
   ]
  },
  {
   "cell_type": "code",
   "execution_count": 39,
   "id": "b4a92ac9",
   "metadata": {},
   "outputs": [
    {
     "name": "stdout",
     "output_type": "stream",
     "text": [
      "Balanced Accuracy: 0.3566297580326493\n",
      "Accuracy: 0.3550641025641026\n",
      "\t\t precision\t\t recall\t\t\t f1-score\t\t support\n",
      "Macro Avg: \t 0.3414646370140914\t 0.3566297580326493\t 0.3461620017120259\t 15600\n",
      "Weighted Avg: \t 0.34085510517541123\t 0.3550641025641026\t 0.34512697840832335\t 15600\n"
     ]
    },
    {
     "name": "stderr",
     "output_type": "stream",
     "text": [
      "/var/folders/43/55xrz6yn351c1v3zrty2c19m0000gn/T/ipykernel_64946/722726911.py:6: FutureWarning: Support for multi-dimensional indexing (e.g. `obj[:, None]`) is deprecated and will be removed in a future version.  Convert to a numpy array before indexing instead.\n",
      "  df_cm = df_cm.astype('float') / df_cm.sum(axis=1)[:, np.newaxis]\n"
     ]
    },
    {
     "data": {
      "image/png": "[encoded data removed]",
      "text/plain": [
       "<Figure size 720x504 with 2 Axes>"
      ]
     },
     "metadata": {
      "needs_background": "light"
     },
     "output_type": "display_data"
    }
   ],
   "source": [
    "output_metrics(y_word2vec_test, lr_word2vec_predicted, normalize_cm=True, title_cm='Logistic Regression (Scaled GloVe) Confusion Matrix')"
   ]
  },
  {
   "cell_type": "code",
   "execution_count": null,
   "id": "16d908cf",
   "metadata": {},
   "outputs": [],
   "source": []
  }
 ],
 "metadata": {
  "kernelspec": {
   "display_name": "Python 3 (ipykernel)",
   "language": "python",
   "name": "python3"
  },
  "language_info": {
   "codemirror_mode": {
    "name": "ipython",
    "version": 3
   },
   "file_extension": ".py",
   "mimetype": "text/x-python",
   "name": "python",
   "nbconvert_exporter": "python",
   "pygments_lexer": "ipython3",
   "version": "3.9.12"
  }
 },
 "nbformat": 4,
 "nbformat_minor": 5
}
