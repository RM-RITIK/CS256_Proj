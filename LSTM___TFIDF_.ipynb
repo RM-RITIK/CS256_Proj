{
  "nbformat": 4,
  "nbformat_minor": 0,
  "metadata": {
    "colab": {
      "provenance": []
    },
    "kernelspec": {
      "name": "python3",
      "display_name": "Python 3"
    },
    "language_info": {
      "name": "python"
    }
  },
  "cells": [
    {
      "cell_type": "code",
      "execution_count": 28,
      "metadata": {
        "id": "6qGarjaKGMte"
      },
      "outputs": [],
      "source": [
        "from collections import defaultdict, Counter\n",
        "import numpy as np\n",
        "import pandas as pd\n",
        "import nltk\n",
        "from nltk.corpus import stopwords\n",
        "from tqdm import tqdm\n",
        "from sklearn.model_selection import train_test_split\n",
        "from sklearn.metrics import classification_report, balanced_accuracy_score, confusion_matrix\n",
        "from sklearn.feature_extraction.text import TfidfVectorizer\n",
        "import matplotlib.pyplot as plt\n",
        "import seaborn as sn\n",
        "from tensorflow.keras.models import Sequential\n",
        "from tensorflow.keras.layers import LSTM, Dense, Embedding, SpatialDropout1D\n",
        "from tensorflow.keras.optimizers import Adam\n",
        "from tensorflow.keras.preprocessing.sequence import pad_sequences\n",
        "from tensorflow.keras.utils import to_categorical"
      ]
    },
    {
      "cell_type": "code",
      "source": [
        "nltk.download('stopwords')\n"
      ],
      "metadata": {
        "colab": {
          "base_uri": "https://localhost:8080/"
        },
        "id": "IFMdg2s-GWhl",
        "outputId": "0fd4627a-9a05-4a62-a76b-992ae97d18b4"
      },
      "execution_count": 2,
      "outputs": [
        {
          "output_type": "stream",
          "name": "stderr",
          "text": [
            "[nltk_data] Downloading package stopwords to /root/nltk_data...\n",
            "[nltk_data]   Unzipping corpora/stopwords.zip.\n"
          ]
        },
        {
          "output_type": "execute_result",
          "data": {
            "text/plain": [
              "True"
            ]
          },
          "metadata": {},
          "execution_count": 2
        }
      ]
    },
    {
      "cell_type": "code",
      "source": [
        "main_df = pd.read_pickle('main_df_sampled.pickle')\n"
      ],
      "metadata": {
        "id": "7_tRnz4wGYNS"
      },
      "execution_count": 4,
      "outputs": []
    },
    {
      "cell_type": "code",
      "source": [
        "# Combine 'title' and 'selftext' fields for text analysis\n",
        "text_df = main_df['title'].map(str) + \" \" + main_df['selftext']\n",
        "y = pd.get_dummies(main_df['genre'])\n"
      ],
      "metadata": {
        "id": "bPGxLEDiGZld"
      },
      "execution_count": 29,
      "outputs": []
    },
    {
      "cell_type": "code",
      "source": [
        "# Set parameters for the TF-IDF\n",
        "MAX_FEATURES = 10000  # Set to the desired vocabulary size\n",
        "MAX_SEQUENCE_LENGTH = 500  # Limit the length of sequences"
      ],
      "metadata": {
        "id": "BiE1C2tdc_QX"
      },
      "execution_count": 30,
      "outputs": []
    },
    {
      "cell_type": "code",
      "source": [
        "tfidf_vectorizer = TfidfVectorizer(max_features=MAX_FEATURES, stop_words='english')\n"
      ],
      "metadata": {
        "id": "2J1COmWMc_SL"
      },
      "execution_count": 31,
      "outputs": []
    },
    {
      "cell_type": "code",
      "source": [
        "X_tfidf = tfidf_vectorizer.fit_transform(text_df)\n",
        "feature_names = tfidf_vectorizer.get_feature_names_out()"
      ],
      "metadata": {
        "id": "8HJKwaCCc_Um"
      },
      "execution_count": 32,
      "outputs": []
    },
    {
      "cell_type": "code",
      "source": [
        "X_tfidf_dense = X_tfidf.toarray()"
      ],
      "metadata": {
        "id": "nonde_q9c_XL"
      },
      "execution_count": 33,
      "outputs": []
    },
    {
      "cell_type": "code",
      "source": [
        "word_index = {word: index + 1 for index, word in enumerate(feature_names)}\n"
      ],
      "metadata": {
        "id": "wdaBD5sQc_ZZ"
      },
      "execution_count": 34,
      "outputs": []
    },
    {
      "cell_type": "code",
      "source": [
        "def text_to_sequence(text):\n",
        "    return [word_index.get(word, 0) for word in text.split()]"
      ],
      "metadata": {
        "id": "9zZdQ640c_cD"
      },
      "execution_count": 35,
      "outputs": []
    },
    {
      "cell_type": "code",
      "source": [
        "sequences = [text_to_sequence(sentence) for sentence in text_df]\n"
      ],
      "metadata": {
        "id": "2nWC0D6_c_eB"
      },
      "execution_count": 36,
      "outputs": []
    },
    {
      "cell_type": "code",
      "source": [
        "X_sequences = pad_sequences(sequences, maxlen=MAX_SEQUENCE_LENGTH)\n"
      ],
      "metadata": {
        "id": "HErJhZi1c_gV"
      },
      "execution_count": 37,
      "outputs": []
    },
    {
      "cell_type": "code",
      "source": [
        "model = Sequential()\n",
        "model.add(Embedding(len(word_index) + 1, 100, input_length=MAX_SEQUENCE_LENGTH))\n",
        "model.add(SpatialDropout1D(0.2))\n",
        "model.add(LSTM(100, dropout=0.2, recurrent_dropout=0.2))\n",
        "model.add(Dense(y.shape[1], activation='softmax'))"
      ],
      "metadata": {
        "id": "j2ZTcYezc_iq"
      },
      "execution_count": 38,
      "outputs": []
    },
    {
      "cell_type": "code",
      "source": [
        "model.compile(loss='categorical_crossentropy', optimizer=Adam(), metrics=['accuracy'])\n"
      ],
      "metadata": {
        "id": "a70pZqXjc_lP"
      },
      "execution_count": 39,
      "outputs": []
    },
    {
      "cell_type": "code",
      "source": [
        "X_train, X_test, y_train, y_test = train_test_split(X_sequences, y, test_size=0.2, random_state=42)\n"
      ],
      "metadata": {
        "id": "OKEb60JCc_n7"
      },
      "execution_count": 40,
      "outputs": []
    },
    {
      "cell_type": "code",
      "source": [
        "history = model.fit(X_train, y_train, batch_size=64, epochs=5, validation_data=(X_test, y_test))\n"
      ],
      "metadata": {
        "colab": {
          "base_uri": "https://localhost:8080/"
        },
        "id": "kfa9OeOyc_qS",
        "outputId": "42395868-2de9-4019-aa98-a9234608bdfb"
      },
      "execution_count": 41,
      "outputs": [
        {
          "output_type": "stream",
          "name": "stdout",
          "text": [
            "Epoch 1/5\n",
            "1463/1463 [==============================] - 2172s 1s/step - loss: 3.3553 - accuracy: 0.0877 - val_loss: 2.8734 - val_accuracy: 0.1841\n",
            "Epoch 2/5\n",
            "1463/1463 [==============================] - 2124s 1s/step - loss: 2.7331 - accuracy: 0.2241 - val_loss: 2.4114 - val_accuracy: 0.3140\n",
            "Epoch 3/5\n",
            "1463/1463 [==============================] - 2120s 1s/step - loss: 2.1004 - accuracy: 0.4082 - val_loss: 1.9398 - val_accuracy: 0.4777\n",
            "Epoch 4/5\n",
            "1463/1463 [==============================] - 2094s 1s/step - loss: 1.7033 - accuracy: 0.5377 - val_loss: 1.7035 - val_accuracy: 0.5578\n",
            "Epoch 5/5\n",
            "1463/1463 [==============================] - 2188s 1s/step - loss: 1.4683 - accuracy: 0.6096 - val_loss: 1.5957 - val_accuracy: 0.5910\n"
          ]
        }
      ]
    },
    {
      "cell_type": "code",
      "source": [
        "# Evaluate the model\n",
        "y_pred = model.predict(X_test)\n",
        "y_pred_classes = np.argmax(y_pred, axis=1)\n",
        "y_test_classes = np.argmax(y_test.values, axis=1)"
      ],
      "metadata": {
        "colab": {
          "base_uri": "https://localhost:8080/"
        },
        "id": "ZT7HOY7Mc_sz",
        "outputId": "90f4b105-a66f-45de-a68b-b7859d470683"
      },
      "execution_count": 42,
      "outputs": [
        {
          "output_type": "stream",
          "name": "stdout",
          "text": [
            "732/732 [==============================] - 107s 145ms/step\n"
          ]
        }
      ]
    },
    {
      "cell_type": "code",
      "source": [
        "model.save('lstm_cnn_tfidf_model.h5')"
      ],
      "metadata": {
        "colab": {
          "base_uri": "https://localhost:8080/"
        },
        "id": "RI_I0TXuc_vO",
        "outputId": "a8dea0e8-8785-4e34-ecfa-fe390a80a513"
      },
      "execution_count": 43,
      "outputs": [
        {
          "output_type": "stream",
          "name": "stderr",
          "text": [
            "/usr/local/lib/python3.10/dist-packages/keras/src/engine/training.py:3103: UserWarning: You are saving your model as an HDF5 file via `model.save()`. This file format is considered legacy. We recommend using instead the native Keras format, e.g. `model.save('my_model.keras')`.\n",
            "  saving_api.save_model(\n"
          ]
        }
      ]
    },
    {
      "cell_type": "code",
      "source": [
        "def output_metrics(y_true, y_pred, normalize_cm=False, title_cm=None):\n",
        "    report = classification_report(y_true, y_pred, output_dict=True)\n",
        "    macro_avg = report['macro avg']\n",
        "    weighted_avg = report['weighted avg']\n",
        "\n",
        "    print('Balanced Accuracy:', balanced_accuracy_score(y_true, y_pred))\n",
        "    print('Accuracy:', report['accuracy'])\n",
        "    print('\\t\\t precision\\t\\t recall\\t\\t\\t f1-score\\t\\t support')\n",
        "    print('Macro Avg: \\t {}\\t {}\\t {}\\t {}'.format(\n",
        "        macro_avg['precision'], macro_avg['recall'], macro_avg['f1-score'], macro_avg['support']))\n",
        "    print('Weighted Avg: \\t {}\\t {}\\t {}\\t {}'.format(\n",
        "        weighted_avg['precision'], weighted_avg['recall'], weighted_avg['f1-score'], weighted_avg['support']))\n",
        "    plot_confusion_matrix(y_true, y_pred, normalize=normalize_cm, title=title_cm)\n"
      ],
      "metadata": {
        "id": "XpF3VWQ5c_xm"
      },
      "execution_count": 46,
      "outputs": []
    },
    {
      "cell_type": "code",
      "source": [
        "def plot_confusion_matrix(y_true, y_pred, normalize=False, title=None):\n",
        "    data = confusion_matrix(y_true, y_pred)\n",
        "    if normalize:\n",
        "        data = data.astype('float') / data.sum(axis=1)[:, np.newaxis]\n",
        "    df_cm = pd.DataFrame(data, index=np.unique(y_true), columns=np.unique(y_true))\n",
        "    df_cm.index.name = 'Actual'\n",
        "    df_cm.columns.name = 'Predicted'\n",
        "    plt.figure(figsize=(10, 7))\n",
        "    if title:\n",
        "        plt.title(title)\n",
        "    else:\n",
        "        plt.title(\"Confusion Matrix\")\n",
        "    sn.set(font_scale=1.4)\n",
        "    sn.heatmap(df_cm, cmap='Reds')"
      ],
      "metadata": {
        "id": "L34u9L2uc_0H"
      },
      "execution_count": 45,
      "outputs": []
    },
    {
      "cell_type": "code",
      "source": [
        "output_metrics(y_test_classes, y_pred_classes, normalize_cm=True, title_cm='LSTM + TF-IDF Confusion Matrix')\n"
      ],
      "metadata": {
        "colab": {
          "base_uri": "https://localhost:8080/",
          "height": 732
        },
        "id": "jowgPv-Gc_2j",
        "outputId": "06e16ccc-abf6-4d28-9e69-a3d7bf2c7b8a"
      },
      "execution_count": 47,
      "outputs": [
        {
          "output_type": "stream",
          "name": "stdout",
          "text": [
            "Balanced Accuracy: 0.5924644167569445\n",
            "Accuracy: 0.590982905982906\n",
            "\t\t precision\t\t recall\t\t\t f1-score\t\t support\n",
            "Macro Avg: \t 0.5907569682402087\t 0.5924644167569445\t 0.5878569924871856\t 23400\n",
            "Weighted Avg: \t 0.5902996940950271\t 0.590982905982906\t 0.5868935818652401\t 23400\n"
          ]
        },
        {
          "output_type": "display_data",
          "data": {
            "text/plain": [
              "<Figure size 1000x700 with 2 Axes>"
            ],
            "image/png": "[encoded data removed]"
          },
          "metadata": {}
        }
      ]
    },
    {
      "cell_type": "code",
      "source": [],
      "metadata": {
        "id": "Odu0m57wc_40"
      },
      "execution_count": null,
      "outputs": []
    },
    {
      "cell_type": "code",
      "source": [],
      "metadata": {
        "id": "ZkCzbzOtc_7r"
      },
      "execution_count": null,
      "outputs": []
    },
    {
      "cell_type": "code",
      "source": [],
      "metadata": {
        "id": "E3fVgYQdc_-R"
      },
      "execution_count": null,
      "outputs": []
    },
    {
      "cell_type": "code",
      "source": [],
      "metadata": {
        "id": "oO4u3VW9dAAp"
      },
      "execution_count": null,
      "outputs": []
    },
    {
      "cell_type": "code",
      "source": [],
      "metadata": {
        "id": "ZNzTHKYWdAC7"
      },
      "execution_count": null,
      "outputs": []
    },
    {
      "cell_type": "code",
      "source": [],
      "metadata": {
        "id": "VCciK2xVdAFd"
      },
      "execution_count": null,
      "outputs": []
    },
    {
      "cell_type": "code",
      "source": [],
      "metadata": {
        "id": "iG88vpp1dAIK"
      },
      "execution_count": null,
      "outputs": []
    },
    {
      "cell_type": "code",
      "source": [],
      "metadata": {
        "id": "6F-YVCr1dAKx"
      },
      "execution_count": null,
      "outputs": []
    },
    {
      "cell_type": "code",
      "source": [],
      "metadata": {
        "id": "zvl_iANpdANH"
      },
      "execution_count": null,
      "outputs": []
    },
    {
      "cell_type": "code",
      "source": [],
      "metadata": {
        "id": "gIhUvUEQdAPc"
      },
      "execution_count": null,
      "outputs": []
    },
    {
      "cell_type": "code",
      "source": [
        "`"
      ],
      "metadata": {
        "id": "xetpmPDzdAS2"
      },
      "execution_count": null,
      "outputs": []
    }
  ]
}